{
  "nbformat": 4,
  "nbformat_minor": 0,
  "metadata": {
    "colab": {
      "provenance": []
    },
    "kernelspec": {
      "name": "python3",
      "display_name": "Python 3"
    },
    "language_info": {
      "name": "python"
    }
  },
  "cells": [
    {
      "cell_type": "code",
      "execution_count": 1,
      "metadata": {
        "id": "TOaRzwahg3A6"
      },
      "outputs": [],
      "source": [
        "def is_prime(n):\n",
        "    if n < 2:\n",
        "        return False\n",
        "    for i in range(2, int(n**0.5) + 1):\n",
        "        if n % i == 0:\n",
        "            return False\n",
        "    return True"
      ]
    },
    {
      "cell_type": "code",
      "source": [
        "num = int(input(\"Enter a number to check if it's prime: \"))"
      ],
      "metadata": {
        "id": "mOY-CQTGg3lj",
        "colab": {
          "base_uri": "https://localhost:8080/"
        },
        "outputId": "23d92e20-a178-480b-8e02-03bf858dbdee"
      },
      "execution_count": 12,
      "outputs": [
        {
          "name": "stdout",
          "output_type": "stream",
          "text": [
            "Enter a number to check if it's prime: 89\n"
          ]
        }
      ]
    },
    {
      "cell_type": "code",
      "source": [
        "if is_prime(num):\n",
        "    print(f\"{num} is a prime number.\")\n",
        "else:\n",
        "    print(f\"{num} is not a prime number.\")"
      ],
      "metadata": {
        "colab": {
          "base_uri": "https://localhost:8080/"
        },
        "id": "mtiT_CpSjay9",
        "outputId": "dd36b9fd-8e7a-453b-9ae6-09418bf2f90c"
      },
      "execution_count": 13,
      "outputs": [
        {
          "output_type": "stream",
          "name": "stdout",
          "text": [
            "89 is a prime number.\n"
          ]
        }
      ]
    },
    {
      "cell_type": "code",
      "source": [
        "def generate_primes(limit):\n",
        "    primes = []\n",
        "    for num in range(2, limit + 1):\n",
        "        if is_prime(num):\n",
        "            primes.append(num)\n",
        "    return primes"
      ],
      "metadata": {
        "id": "D5Kb-blyjgCe"
      },
      "execution_count": 6,
      "outputs": []
    },
    {
      "cell_type": "code",
      "source": [
        "limit = int(input(\"Enter a number to generate prime numbers up to: \"))"
      ],
      "metadata": {
        "colab": {
          "base_uri": "https://localhost:8080/"
        },
        "id": "muVqJFErjj1g",
        "outputId": "fef18973-dae2-4c80-8908-468d608e8306"
      },
      "execution_count": 7,
      "outputs": [
        {
          "name": "stdout",
          "output_type": "stream",
          "text": [
            "Enter a number to generate prime numbers up to: 7\n"
          ]
        }
      ]
    },
    {
      "cell_type": "code",
      "source": [
        "print(f\"Prime numbers up to {limit}: {generate_primes(limit)}\")"
      ],
      "metadata": {
        "colab": {
          "base_uri": "https://localhost:8080/"
        },
        "id": "_G_o0CMNjpaG",
        "outputId": "2614f61e-c880-4331-e61a-5c71e3ceb258"
      },
      "execution_count": 9,
      "outputs": [
        {
          "output_type": "stream",
          "name": "stdout",
          "text": [
            "Prime numbers up to 7: [2, 3, 5, 7]\n"
          ]
        }
      ]
    }
  ]
}